{
 "cells": [
  {
   "cell_type": "code",
   "execution_count": 7,
   "metadata": {},
   "outputs": [
    {
     "name": "stdout",
     "output_type": "stream",
     "text": [
      "\n",
      "Input should be number...\n",
      "5 ft 11.653543307086608'\n",
      "5 ft 11.653543307086608'\n"
     ]
    }
   ],
   "source": [
    "cm_to_inch = lambda cm : cm / 2.54\n",
    "inch_to_cm = lambda inch : inch * 2.54\n",
    "cm_to_foot = lambda cm : inch_to_foot(cm_to_inch(cm))\n",
    "\n",
    "inch_to_foot = lambda inch : inch / 12\n",
    "foot_to_inch = lambda foot : foot * 12\n",
    "\n",
    "split_whole_and_fract = lambda n : (int(n), n % 1)\n",
    "\n",
    "running = True\n",
    "cm_measurement = 0\n",
    "\n",
    "while running:\n",
    "    cm_measurement = input('Input in cm: ')\n",
    "    while not cm_measurement.isdigit():\n",
    "        print('\\nInput should be number...')\n",
    "        cm_measurement = input('Input in cm: ')\n",
    "    foot_measurement = cm_to_foot(int(cm_measurement))\n",
    "    foot_whole, foot_fract = split_whole_and_fract(foot_measurement)\n",
    "    print(f\"{foot_whole} ft {foot_to_inch(foot_fract)}'\")\n",
    "    inp = input('Quit? [y/n] ')\n",
    "    while inp != 'y' and inp != 'n':\n",
    "        inp = input('Quit? [y/n] ')\n",
    "    running = False if inp == 'y' else True\n",
    "\n",
    "\n"
   ]
  }
 ],
 "metadata": {
  "kernelspec": {
   "display_name": "Python 3.9.0 64-bit",
   "language": "python",
   "name": "python3"
  },
  "language_info": {
   "codemirror_mode": {
    "name": "ipython",
    "version": 3
   },
   "file_extension": ".py",
   "mimetype": "text/x-python",
   "name": "python",
   "nbconvert_exporter": "python",
   "pygments_lexer": "ipython3",
   "version": "3.9.0"
  },
  "orig_nbformat": 4,
  "vscode": {
   "interpreter": {
    "hash": "baaccee738fd92943b6b08c949509cdf7584851991867f4f7fe814ec4ba8a3bb"
   }
  }
 },
 "nbformat": 4,
 "nbformat_minor": 2
}
